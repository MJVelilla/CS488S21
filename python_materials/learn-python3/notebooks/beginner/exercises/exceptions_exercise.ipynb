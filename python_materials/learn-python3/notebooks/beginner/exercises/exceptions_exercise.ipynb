{
  "nbformat": 4,
  "nbformat_minor": 0,
  "metadata": {
    "kernelspec": {
      "display_name": "Python 3",
      "language": "python",
      "name": "python3"
    },
    "language_info": {
      "codemirror_mode": {
        "name": "ipython",
        "version": 3
      },
      "file_extension": ".py",
      "mimetype": "text/x-python",
      "name": "python",
      "nbconvert_exporter": "python",
      "pygments_lexer": "ipython3",
      "version": "3.5.4"
    },
    "colab": {
      "name": "exceptions_exercise.ipynb",
      "provenance": [],
      "include_colab_link": true
    }
  },
  "cells": [
    {
      "cell_type": "markdown",
      "metadata": {
        "id": "view-in-github",
        "colab_type": "text"
      },
      "source": [
        "<a href=\"https://colab.research.google.com/github/MJVelilla/CS488S21/blob/main/python_materials/learn-python3/notebooks/beginner/exercises/exceptions_exercise.ipynb\" target=\"_parent\"><img src=\"https://colab.research.google.com/assets/colab-badge.svg\" alt=\"Open In Colab\"/></a>"
      ]
    },
    {
      "cell_type": "markdown",
      "metadata": {
        "id": "oRC8X7VUI_cw"
      },
      "source": [
        "# 1. Dealing with exceptions\n",
        "Fill `____` parts of the implementation below. `sum_of_list` function takes a list as argument and calculates the sum of values in the list. If some element in the list can not be converted to a numeric value, it should be ignored from the sum."
      ]
    },
    {
      "cell_type": "code",
      "metadata": {
        "id": "Xari2-DoI_cx"
      },
      "source": [
        "def sum_of_list(values):\n",
        "    numeric_val = 0\n",
        "    sum = 0\n",
        "    for val in values:\n",
        "        try:\n",
        "            numeric_val = float(val)\n",
        "        except Exception as e:\n",
        "            print(\"Exception: {}\".format(e))\n",
        "        sum += numeric_val\n",
        "    return sum"
      ],
      "execution_count": 6,
      "outputs": []
    },
    {
      "cell_type": "code",
      "metadata": {
        "editable": false,
        "id": "FlzaUgwNI_cy",
        "outputId": "841d2af1-7c69-4d61-afc9-2a31013985f8",
        "colab": {
          "base_uri": "https://localhost:8080/"
        }
      },
      "source": [
        "list1 = [1, 2, 3]\n",
        "list2 = ['1', 2.5, '3.0']\n",
        "list3 = ['', '1']\n",
        "list4 = []\n",
        "list5 = ['John', 'Doe', 'was', 'here']\n",
        "nasty_list = [KeyError(), [], dict()]\n",
        "\n",
        "assert sum_of_list(list1) == 6\n",
        "assert sum_of_list(list2) == 6.5\n",
        "assert sum_of_list(list3) == 1\n",
        "assert sum_of_list(list4) == 0\n",
        "assert sum_of_list(list5) == 0\n",
        "assert sum_of_list(nasty_list) == 0"
      ],
      "execution_count": 7,
      "outputs": [
        {
          "output_type": "stream",
          "text": [
            "Exception: could not convert string to float: \n",
            "Exception: could not convert string to float: 'John'\n",
            "Exception: could not convert string to float: 'Doe'\n",
            "Exception: could not convert string to float: 'was'\n",
            "Exception: could not convert string to float: 'here'\n",
            "Exception: float() argument must be a string or a number, not 'KeyError'\n",
            "Exception: float() argument must be a string or a number, not 'list'\n",
            "Exception: float() argument must be a string or a number, not 'dict'\n"
          ],
          "name": "stdout"
        }
      ]
    },
    {
      "cell_type": "markdown",
      "metadata": {
        "id": "HI3px-k0I_cy"
      },
      "source": [
        "# 2. Using custom exceptions\n",
        "Implement `verify_short_string` function which takes a single string as argument. If the length of the input string is more than ten characters, the function should raise `TooLongString` exception (note: you have to create `TooLongString` yourself). The function does not have to return anything.  "
      ]
    },
    {
      "cell_type": "code",
      "metadata": {
        "id": "7FNbsXjTI_cz"
      },
      "source": [
        "class TooLongString(Exception):\r\n",
        "    pass\r\n",
        "\r\n",
        "def verify_short_string(str):\r\n",
        "    if len(str) > 10:\r\n",
        "        e = \"String parameter too long: {}\".format(str)\r\n",
        "        raise TooLongString(e)\r\n"
      ],
      "execution_count": 9,
      "outputs": []
    },
    {
      "cell_type": "code",
      "metadata": {
        "editable": false,
        "id": "VZOm8Wg6I_cz"
      },
      "source": [
        "# These should not raise\n",
        "verify_short_string('short') \n",
        "verify_short_string('10   chars')\n",
        "\n",
        "# This should raise\n",
        "try:\n",
        "    verify_short_string('this is long')\n",
        "except TooLongString as e:\n",
        "    # This is ok\n",
        "    pass\n",
        "else:\n",
        "    # This means that there was no exception\n",
        "    assert False "
      ],
      "execution_count": 11,
      "outputs": []
    }
  ]
}