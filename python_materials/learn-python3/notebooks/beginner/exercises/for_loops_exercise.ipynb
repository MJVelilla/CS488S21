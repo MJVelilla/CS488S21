{
  "nbformat": 4,
  "nbformat_minor": 0,
  "metadata": {
    "kernelspec": {
      "display_name": "Python 3",
      "language": "python",
      "name": "python3"
    },
    "language_info": {
      "codemirror_mode": {
        "name": "ipython",
        "version": 3
      },
      "file_extension": ".py",
      "mimetype": "text/x-python",
      "name": "python",
      "nbconvert_exporter": "python",
      "pygments_lexer": "ipython3",
      "version": "3.5.4"
    },
    "colab": {
      "name": "for_loops_exercise.ipynb",
      "provenance": [],
      "include_colab_link": true
    }
  },
  "cells": [
    {
      "cell_type": "markdown",
      "metadata": {
        "id": "view-in-github",
        "colab_type": "text"
      },
      "source": [
        "<a href=\"https://colab.research.google.com/github/MJVelilla/CS488S21/blob/main/python_materials/learn-python3/notebooks/beginner/exercises/for_loops_exercise.ipynb\" target=\"_parent\"><img src=\"https://colab.research.google.com/assets/colab-badge.svg\" alt=\"Open In Colab\"/></a>"
      ]
    },
    {
      "cell_type": "markdown",
      "metadata": {
        "id": "BXnXzQuCVpqr"
      },
      "source": [
        "# 1. Fill the missing pieces\n",
        "Fill the `____` parts in the code below."
      ]
    },
    {
      "cell_type": "code",
      "metadata": {
        "id": "HGST5em8Vpqy"
      },
      "source": [
        "words = ['PYTHON', 'JOHN', 'chEEse', 'hAm', 'DOE', '123']\n",
        "upper_case_words = []\n",
        "\n",
        "for item in words:\n",
        "    if item.isupper():\n",
        "        upper_case_words.append(item)"
      ],
      "execution_count": 4,
      "outputs": []
    },
    {
      "cell_type": "code",
      "metadata": {
        "editable": false,
        "id": "5S2iLOxNVpqy"
      },
      "source": [
        "assert upper_case_words == ['PYTHON', 'JOHN', 'DOE']"
      ],
      "execution_count": 6,
      "outputs": []
    },
    {
      "cell_type": "markdown",
      "metadata": {
        "id": "x-OUIJZmVpqz"
      },
      "source": [
        "# 2. Calculate the sum of dict values\n",
        "Calculate the sum of the values in `magic_dict` by taking only into account numeric values (hint: see [isinstance](https://docs.python.org/3/library/functions.html#isinstance)). "
      ]
    },
    {
      "cell_type": "code",
      "metadata": {
        "editable": false,
        "id": "I1btOJ9fVpqz"
      },
      "source": [
        "magic_dict = dict(val1=44, val2='secret value', val3=55.0, val4=1)"
      ],
      "execution_count": 7,
      "outputs": []
    },
    {
      "cell_type": "code",
      "metadata": {
        "id": "vaFYekXpVpq0"
      },
      "source": [
        "# Your implementation\n",
        "sum_of_values = 0\n",
        "for key, val in magic_dict.items():\n",
        "    if isinstance(val, float):\n",
        "        sum_of_values += val \n",
        "    if isinstance(val, int):\n",
        "        sum_of_values += val     "
      ],
      "execution_count": 15,
      "outputs": []
    },
    {
      "cell_type": "code",
      "metadata": {
        "editable": false,
        "id": "fWzB_2asVpq0"
      },
      "source": [
        "assert sum_of_values == 100"
      ],
      "execution_count": 17,
      "outputs": []
    },
    {
      "cell_type": "markdown",
      "metadata": {
        "id": "3uKIpgU7Vpq0"
      },
      "source": [
        "# 3. Create a list of strings based on a list of numbers\n",
        "The rules:\n",
        "* If the number is a multiple of five and odd, the string should be `'five odd'`\n",
        "* If the number is a multiple of five and even, the string should be `'five even'`\n",
        "* If the number is odd, the string is `'odd'`\n",
        "* If the number is even, the string is `'even'`"
      ]
    },
    {
      "cell_type": "code",
      "metadata": {
        "editable": false,
        "id": "N4HjgeYrVpq3"
      },
      "source": [
        "numbers = [1, 3, 4, 6, 81, 80, 100, 95]"
      ],
      "execution_count": 18,
      "outputs": []
    },
    {
      "cell_type": "code",
      "metadata": {
        "id": "rq6HjnIVVpq3",
        "outputId": "20433707-2e1e-4aa4-cb86-a4daa4ebb524",
        "colab": {
          "base_uri": "https://localhost:8080/"
        }
      },
      "source": [
        "# Your implementation\n",
        "my_list = []\n",
        "for i in numbers:\n",
        "    if (i % 5 == 0) and (i % 2 == 0):\n",
        "        my_list.append(\"five even\")\n",
        "    elif i % 5 == 0:\n",
        "        my_list.append(\"five odd\")\n",
        "    elif i % 2 == 0:\n",
        "        my_list.append(\"even\")\n",
        "    else:\n",
        "        my_list.append(\"odd\")\n",
        "for items in my_list:\n",
        "    print(items)"
      ],
      "execution_count": 29,
      "outputs": [
        {
          "output_type": "stream",
          "text": [
            "odd\n",
            "odd\n",
            "even\n",
            "even\n",
            "odd\n",
            "five even\n",
            "five even\n",
            "five odd\n"
          ],
          "name": "stdout"
        }
      ]
    },
    {
      "cell_type": "code",
      "metadata": {
        "editable": false,
        "id": "kfSNXAMTVpq4"
      },
      "source": [
        "assert my_list == ['odd', 'odd', 'even', 'even', 'odd', 'five even', 'five even', 'five odd']"
      ],
      "execution_count": 30,
      "outputs": []
    }
  ]
}