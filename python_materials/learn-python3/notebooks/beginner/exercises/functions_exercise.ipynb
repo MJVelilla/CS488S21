{
  "nbformat": 4,
  "nbformat_minor": 0,
  "metadata": {
    "kernelspec": {
      "display_name": "Python 3",
      "language": "python",
      "name": "python3"
    },
    "language_info": {
      "codemirror_mode": {
        "name": "ipython",
        "version": 3
      },
      "file_extension": ".py",
      "mimetype": "text/x-python",
      "name": "python",
      "nbconvert_exporter": "python",
      "pygments_lexer": "ipython3",
      "version": "3.5.4"
    },
    "colab": {
      "name": "functions_exercise.ipynb",
      "provenance": [],
      "include_colab_link": true
    }
  },
  "cells": [
    {
      "cell_type": "markdown",
      "metadata": {
        "id": "view-in-github",
        "colab_type": "text"
      },
      "source": [
        "<a href=\"https://colab.research.google.com/github/MJVelilla/CS488S21/blob/main/python_materials/learn-python3/notebooks/beginner/exercises/functions_exercise.ipynb\" target=\"_parent\"><img src=\"https://colab.research.google.com/assets/colab-badge.svg\" alt=\"Open In Colab\"/></a>"
      ]
    },
    {
      "cell_type": "markdown",
      "metadata": {
        "id": "Qlpg1z1tIGG9"
      },
      "source": [
        "# 1. Fill the missing pieces of the `count_even_numbers` function\n",
        "Fill `____` pieces of the `count_even_numbers` implemention in order to pass the assertions. You can assume that `numbers` argument is a list of integers."
      ]
    },
    {
      "cell_type": "code",
      "metadata": {
        "id": "9BSDZ-wOIGHF"
      },
      "source": [
        "def count_even_numbers(numbers):\n",
        "    count = 0\n",
        "    for num in numbers:\n",
        "        if num % 2 == 0:\n",
        "            count += 1\n",
        "    return count"
      ],
      "execution_count": 5,
      "outputs": []
    },
    {
      "cell_type": "code",
      "metadata": {
        "editable": false,
        "id": "WMB4x2zUIGHH"
      },
      "source": [
        "assert count_even_numbers([1, 2, 3, 4, 5, 6]) == 3\n",
        "assert count_even_numbers([1, 3, 5, 7]) == 0\n",
        "assert count_even_numbers([-2, 2, -10, 8]) == 4"
      ],
      "execution_count": 6,
      "outputs": []
    },
    {
      "cell_type": "markdown",
      "metadata": {
        "id": "hyGSMNt8IGHH"
      },
      "source": [
        "# 2. Searching for wanted people\n",
        "Implement `find_wanted_people` function which takes a list of names (strings) as argument. The function should return a list of names which are present both in `WANTED_PEOPLE` and in the name list given as argument to the function."
      ]
    },
    {
      "cell_type": "code",
      "metadata": {
        "editable": false,
        "id": "BHcZunMgIGHI"
      },
      "source": [
        "WANTED_PEOPLE = ['John Doe', 'Clint Eastwood', 'Chuck Norris']"
      ],
      "execution_count": 7,
      "outputs": []
    },
    {
      "cell_type": "code",
      "metadata": {
        "id": "14MkiXBSIGHJ"
      },
      "source": [
        "# Your implementation here\r\n",
        "def find_wanted_people(people):\r\n",
        "    temp_list = []\r\n",
        "    for wanted in people:\r\n",
        "        if wanted == WANTED_PEOPLE[0]:\r\n",
        "            temp_list.append(wanted)\r\n",
        "        elif wanted == WANTED_PEOPLE[1]:\r\n",
        "            temp_list.append(wanted)\r\n",
        "        elif wanted == WANTED_PEOPLE[2]:\r\n",
        "            temp_list.append(wanted)  \r\n",
        "    return temp_list "
      ],
      "execution_count": 10,
      "outputs": []
    },
    {
      "cell_type": "code",
      "metadata": {
        "editable": false,
        "id": "heWePc34IGHJ"
      },
      "source": [
        "people_to_check1 = ['Donald Duck', 'Clint Eastwood', 'John Doe', 'Barack Obama']\n",
        "wanted1 = find_wanted_people(people_to_check1)\n",
        "assert len(wanted1) == 2\n",
        "assert 'John Doe' in wanted1\n",
        "assert 'Clint Eastwood'in wanted1\n",
        "\n",
        "people_to_check2 = ['Donald Duck', 'Mickey Mouse', 'Zorro', 'Superman', 'Robin Hood']\n",
        "wanted2 = find_wanted_people(people_to_check2)\n",
        "assert wanted2 == []"
      ],
      "execution_count": 12,
      "outputs": []
    },
    {
      "cell_type": "markdown",
      "metadata": {
        "id": "TPccmztyIGHJ"
      },
      "source": [
        "# 3. Counting average length of words in a sentence\n",
        "Create a function `average_length_of_words` which takes a string as an argument and returns the average length of the words in the string. You can assume that there is a single space between each word and that the input does not have punctuation. The result should be rounded to one decimal place (hint: see [`round`](https://docs.python.org/3/library/functions.html#round))."
      ]
    },
    {
      "cell_type": "code",
      "metadata": {
        "id": "OqkdnOK5IGHK",
        "outputId": "13e75972-22e3-4ed5-b46e-9a408bee4d8e",
        "colab": {
          "base_uri": "https://localhost:8080/",
          "height": 129
        }
      },
      "source": [
        "# Your implementation here\r\n",
        "def average_length_of_words(phrase):\r\n",
        "    for words in phrase:\r\n",
        "        if "
      ],
      "execution_count": 13,
      "outputs": [
        {
          "output_type": "error",
          "ename": "SyntaxError",
          "evalue": "ignored",
          "traceback": [
            "\u001b[0;36m  File \u001b[0;32m\"<ipython-input-13-840bcaa5a356>\"\u001b[0;36m, line \u001b[0;32m4\u001b[0m\n\u001b[0;31m    \u001b[0m\n\u001b[0m    ^\u001b[0m\n\u001b[0;31mSyntaxError\u001b[0m\u001b[0;31m:\u001b[0m unexpected EOF while parsing\n"
          ]
        }
      ]
    },
    {
      "cell_type": "code",
      "metadata": {
        "editable": false,
        "id": "ifPkoRkEIGHK"
      },
      "source": [
        "assert average_length_of_words('only four lett erwo rdss') == 4\n",
        "assert average_length_of_words('one two three') == 3.7\n",
        "assert average_length_of_words('one two three four') == 3.8\n",
        "assert average_length_of_words('') == 0"
      ],
      "execution_count": null,
      "outputs": []
    }
  ]
}