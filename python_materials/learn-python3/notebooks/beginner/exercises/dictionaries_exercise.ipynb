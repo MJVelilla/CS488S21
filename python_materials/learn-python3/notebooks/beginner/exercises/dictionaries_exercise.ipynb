{
  "nbformat": 4,
  "nbformat_minor": 0,
  "metadata": {
    "celltoolbar": "Edit Metadata",
    "kernelspec": {
      "display_name": "Python 3",
      "language": "python",
      "name": "python3"
    },
    "language_info": {
      "codemirror_mode": {
        "name": "ipython",
        "version": 3
      },
      "file_extension": ".py",
      "mimetype": "text/x-python",
      "name": "python",
      "nbconvert_exporter": "python",
      "pygments_lexer": "ipython3",
      "version": "3.5.4"
    },
    "colab": {
      "name": "dictionaries_exercise.ipynb",
      "provenance": [],
      "include_colab_link": true
    }
  },
  "cells": [
    {
      "cell_type": "markdown",
      "metadata": {
        "id": "view-in-github",
        "colab_type": "text"
      },
      "source": [
        "<a href=\"https://colab.research.google.com/github/MJVelilla/CS488S21/blob/main/python_materials/learn-python3/notebooks/beginner/exercises/dictionaries_exercise.ipynb\" target=\"_parent\"><img src=\"https://colab.research.google.com/assets/colab-badge.svg\" alt=\"Open In Colab\"/></a>"
      ]
    },
    {
      "cell_type": "markdown",
      "metadata": {
        "id": "BOGTD2jv2oWO"
      },
      "source": [
        "# 1. Populating a dictionary\n",
        "Create a dictionary by using all the given variables."
      ]
    },
    {
      "cell_type": "code",
      "metadata": {
        "editable": false,
        "id": "dYP0TQOK2oWU"
      },
      "source": [
        "first_name = 'John'\n",
        "last_name = 'Doe'\n",
        "favorite_hobby = 'Python'\n",
        "sports_hobby = 'gym'\n",
        "age = 82"
      ],
      "execution_count": 1,
      "outputs": []
    },
    {
      "cell_type": "code",
      "metadata": {
        "id": "eyXZNBhw2oWV",
        "outputId": "3e364c30-d1c9-4870-f94b-a91f0fe662f0",
        "colab": {
          "base_uri": "https://localhost:8080/"
        }
      },
      "source": [
        "# Your implementation\n",
        "my_dict = {'name': (first_name + \" \" + last_name), 'age': age, 'hobbies': [favorite_hobby, sports_hobby]}\n",
        "print(my_dict)"
      ],
      "execution_count": 6,
      "outputs": [
        {
          "output_type": "stream",
          "text": [
            "{'name': 'John Doe', 'age': 82, 'hobbies': ['Python', 'gym']}\n"
          ],
          "name": "stdout"
        }
      ]
    },
    {
      "cell_type": "code",
      "metadata": {
        "editable": false,
        "id": "KH9R1DVy2oWW"
      },
      "source": [
        "assert my_dict == {\n",
        "        'name': 'John Doe',\n",
        "        'age': 82,\n",
        "        'hobbies': ['Python', 'gym']\n",
        "    }"
      ],
      "execution_count": 7,
      "outputs": []
    },
    {
      "cell_type": "markdown",
      "metadata": {
        "id": "BoPAZVy42oWW"
      },
      "source": [
        "# 2. Accessing and merging dictionaries\n",
        "Combine `dict1`, `dict2`, and `dict3` into `my_dict`. In addition, get the value of `special_key` from `my_dict` into a `special_value` variable. Note that original dictionaries should stay untouched and `special_key` should be removed from `my_dict`."
      ]
    },
    {
      "cell_type": "code",
      "metadata": {
        "editable": false,
        "id": "5XSkOoy82oWW"
      },
      "source": [
        "dict1 = dict(key1='This is not that hard', key2='Python is still cool')\n",
        "dict2 = {'key1': 123, 'special_key': 'secret'}\n",
        "# This is also a away to initialize a dict (list of tuples) \n",
        "dict3 = dict([('key2', 456), ('keyX', 'X')])"
      ],
      "execution_count": 10,
      "outputs": []
    },
    {
      "cell_type": "code",
      "metadata": {
        "id": "C-70u-b-2oWX",
        "outputId": "daa70696-818b-48cf-be13-1a0b325bfad4",
        "colab": {
          "base_uri": "https://localhost:8080/"
        }
      },
      "source": [
        "# 'Your impelementation'\n",
        "my_dict = dict(dict1)\n",
        "my_dict.update(dict2)\n",
        "my_dict.update(dict3)\n",
        "special_value = my_dict.pop('special_key')\n",
        "print(my_dict)\n",
        "print(special_value)"
      ],
      "execution_count": 12,
      "outputs": [
        {
          "output_type": "stream",
          "text": [
            "{'key1': 123, 'key2': 456, 'keyX': 'X'}\n",
            "secret\n"
          ],
          "name": "stdout"
        }
      ]
    },
    {
      "cell_type": "code",
      "metadata": {
        "editable": false,
        "id": "Jhco8oNp2oWX"
      },
      "source": [
        "assert my_dict == {'key1': 123, 'key2': 456, 'keyX': 'X'}\n",
        "assert special_value == 'secret'\n",
        "\n",
        "# Let's check that the originals are untouched\n",
        "assert dict1 == {\n",
        "        'key1': 'This is not that hard',\n",
        "        'key2': 'Python is still cool'\n",
        "    }\n",
        "assert dict2 == {'key1': 123, 'special_key': 'secret'}\n",
        "assert dict3 == {'key2': 456, 'keyX': 'X'}"
      ],
      "execution_count": 13,
      "outputs": []
    }
  ]
}