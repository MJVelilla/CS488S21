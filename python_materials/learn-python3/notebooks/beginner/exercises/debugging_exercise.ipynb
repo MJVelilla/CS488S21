{
  "nbformat": 4,
  "nbformat_minor": 0,
  "metadata": {
    "kernelspec": {
      "display_name": "Python 3",
      "language": "python",
      "name": "python3"
    },
    "language_info": {
      "codemirror_mode": {
        "name": "ipython",
        "version": 3
      },
      "file_extension": ".py",
      "mimetype": "text/x-python",
      "name": "python",
      "nbconvert_exporter": "python",
      "pygments_lexer": "ipython3",
      "version": "3.5.4"
    },
    "colab": {
      "name": "debugging_exercise.ipynb",
      "provenance": [],
      "include_colab_link": true
    }
  },
  "cells": [
    {
      "cell_type": "markdown",
      "metadata": {
        "id": "view-in-github",
        "colab_type": "text"
      },
      "source": [
        "<a href=\"https://colab.research.google.com/github/MJVelilla/CS488S21/blob/main/python_materials/learn-python3/notebooks/beginner/exercises/debugging_exercise.ipynb\" target=\"_parent\"><img src=\"https://colab.research.google.com/assets/colab-badge.svg\" alt=\"Open In Colab\"/></a>"
      ]
    },
    {
      "cell_type": "markdown",
      "metadata": {
        "id": "nNqd4BXrkdGl"
      },
      "source": [
        "# 1. Identifying bugs in code\n",
        "The following `stripped_reversed_lowercase` function contains at least one bug. You can see this by running the code in the cell below which tests the functionality of the `stripped_reversed_lowercase` function.\n",
        "\n",
        "Set trace at the beginning of `stripped_reversed_lowercase` and use debugger to solve the bug(s). Execute the code line by line and print variables used in the function to understand what's going wrong. "
      ]
    },
    {
      "cell_type": "code",
      "metadata": {
        "id": "kalZZiUqkdGt"
      },
      "source": [
        "def stripped_reversed_lowercase(original):\n",
        "    # Set a breakpoint here and start debugging\n",
        "    #import pdb; pdb.set_trace()\n",
        "    stripped = original.strip().lower()\n",
        "    reverse = ''.join(reversed(stripped))\n",
        "    return reverse"
      ],
      "execution_count": 28,
      "outputs": []
    },
    {
      "cell_type": "code",
      "metadata": {
        "editable": false,
        "id": "y7oPHj7kkdGu"
      },
      "source": [
        "# Let's verify it works\n",
        "original = ' \\n Original String '\n",
        "result = stripped_reversed_lowercase(original)\n",
        "assert result == 'gnirts lanigiro'"
      ],
      "execution_count": 29,
      "outputs": []
    }
  ]
}